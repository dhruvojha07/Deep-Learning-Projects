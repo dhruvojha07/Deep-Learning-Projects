{
 "cells": [
  {
   "cell_type": "code",
   "execution_count": 18,
   "id": "7974956b-5693-4657-b154-a089155cbbb0",
   "metadata": {},
   "outputs": [],
   "source": [
    "import tensorflow as tf\n",
    "import tensorflow_datasets as tfds\n",
    "import string\n",
    "import re\n",
    "import os\n",
    "import datetime\n",
    "import numpy as np\n",
    "import matplotlib.pyplot as plt\n",
    "from tensorflow.keras.models import Model\n",
    "from tensorflow.keras.layers import Layer\n",
    "from tensorflow.keras.layers import (Dense,Flatten,SimpleRNN,InputLayer,Conv1D,Bidirectional,GRU,LSTM,BatchNormalization,Dropout,Input,GlobalMaxPooling1D,Embedding,TextVectorization,LayerNormalization,MultiHeadAttention)\n",
    "from tensorflow.keras.losses import BinaryCrossentropy,CategoricalCrossentropy, SparseCategoricalCrossentropy\n",
    "from tensorflow.keras.metrics import Accuracy,TopKCategoricalAccuracy, CategoricalAccuracy, SparseCategoricalAccuracy\n",
    "from tensorflow.keras.optimizers import Adam\n",
    "import gensim.downloader as api\n",
    "from tensorboard.plugins import projector"
   ]
  },
  {
   "cell_type": "code",
   "execution_count": 2,
   "id": "fea06e2c-fc39-40ce-803d-e93d99822cb0",
   "metadata": {},
   "outputs": [
    {
     "name": "stderr",
     "output_type": "stream",
     "text": [
      "2024-07-29 17:18:16.601088: I external/local_xla/xla/stream_executor/cuda/cuda_executor.cc:887] could not open file to read NUMA node: /sys/bus/pci/devices/0000:01:00.0/numa_node\n",
      "Your kernel may have been built without NUMA support.\n",
      "2024-07-29 17:18:17.013342: I external/local_xla/xla/stream_executor/cuda/cuda_executor.cc:887] could not open file to read NUMA node: /sys/bus/pci/devices/0000:01:00.0/numa_node\n",
      "Your kernel may have been built without NUMA support.\n",
      "2024-07-29 17:18:17.013429: I external/local_xla/xla/stream_executor/cuda/cuda_executor.cc:887] could not open file to read NUMA node: /sys/bus/pci/devices/0000:01:00.0/numa_node\n",
      "Your kernel may have been built without NUMA support.\n",
      "2024-07-29 17:18:17.021150: I external/local_xla/xla/stream_executor/cuda/cuda_executor.cc:887] could not open file to read NUMA node: /sys/bus/pci/devices/0000:01:00.0/numa_node\n",
      "Your kernel may have been built without NUMA support.\n",
      "2024-07-29 17:18:17.021237: I external/local_xla/xla/stream_executor/cuda/cuda_executor.cc:887] could not open file to read NUMA node: /sys/bus/pci/devices/0000:01:00.0/numa_node\n",
      "Your kernel may have been built without NUMA support.\n",
      "2024-07-29 17:18:17.021292: I external/local_xla/xla/stream_executor/cuda/cuda_executor.cc:887] could not open file to read NUMA node: /sys/bus/pci/devices/0000:01:00.0/numa_node\n",
      "Your kernel may have been built without NUMA support.\n",
      "2024-07-29 17:18:17.207687: I external/local_xla/xla/stream_executor/cuda/cuda_executor.cc:887] could not open file to read NUMA node: /sys/bus/pci/devices/0000:01:00.0/numa_node\n",
      "Your kernel may have been built without NUMA support.\n",
      "2024-07-29 17:18:17.207893: I external/local_xla/xla/stream_executor/cuda/cuda_executor.cc:887] could not open file to read NUMA node: /sys/bus/pci/devices/0000:01:00.0/numa_node\n",
      "Your kernel may have been built without NUMA support.\n",
      "2024-07-29 17:18:17.207911: I tensorflow/core/common_runtime/gpu/gpu_device.cc:2022] Could not identify NUMA node of platform GPU id 0, defaulting to 0.  Your kernel may not have been built with NUMA support.\n",
      "2024-07-29 17:18:17.208069: I external/local_xla/xla/stream_executor/cuda/cuda_executor.cc:887] could not open file to read NUMA node: /sys/bus/pci/devices/0000:01:00.0/numa_node\n",
      "Your kernel may have been built without NUMA support.\n",
      "2024-07-29 17:18:17.208355: I tensorflow/core/common_runtime/gpu/gpu_device.cc:1929] Created device /job:localhost/replica:0/task:0/device:GPU:0 with 3586 MB memory:  -> device: 0, name: NVIDIA GeForce RTX 3060 Laptop GPU, pci bus id: 0000:01:00.0, compute capability: 8.6\n"
     ]
    }
   ],
   "source": [
    "train_ds,val_ds,test_ds=tfds.load('imdb_reviews', split=['train', 'test[:50%]', 'test[50%:]'],as_supervised=True)"
   ]
  },
  {
   "cell_type": "code",
   "execution_count": 3,
   "id": "b95b4060-cdd9-4ae4-93d7-09943ae94722",
   "metadata": {},
   "outputs": [],
   "source": [
    "def standardization(input_data):\n",
    "    '''\n",
    "    Input: raw reviews\n",
    "    output: standardized reviews\n",
    "    '''\n",
    "    lowercase=tf.strings.lower(input_data)\n",
    "    no_tag=tf.strings.regex_replace(lowercase,\"<[^>]+>\",\"\")\n",
    "    output=tf.strings.regex_replace(no_tag,\"[%s]\"%re.escape(string.punctuation),\"\")\n",
    "\n",
    "    return output"
   ]
  },
  {
   "cell_type": "code",
   "execution_count": 4,
   "id": "febe1165-6615-4179-8e72-62609defcd0f",
   "metadata": {},
   "outputs": [],
   "source": [
    "VOCAB_SIZE=10000\n",
    "SEQUENCE_LENGTH=250\n",
    "EMBEDDING_DIM=300"
   ]
  },
  {
   "cell_type": "code",
   "execution_count": 5,
   "id": "ebd440ad-23fa-42a3-bc88-3aa461cf01b0",
   "metadata": {},
   "outputs": [],
   "source": [
    "vectorize_layer=TextVectorization(\n",
    "    standardize=standardization,\n",
    "    max_tokens=VOCAB_SIZE,\n",
    "    output_mode='int',\n",
    "    output_sequence_length=SEQUENCE_LENGTH\n",
    ")"
   ]
  },
  {
   "cell_type": "code",
   "execution_count": 6,
   "id": "c9dc6714-e9ab-4265-8703-3a483d6de875",
   "metadata": {},
   "outputs": [],
   "source": [
    "training_data=train_ds.map(lambda x,y:x) # input x and y and outputx\n",
    "vectorize_layer.adapt(training_data) # adapt the vectorize_layer to the training data"
   ]
  },
  {
   "cell_type": "code",
   "execution_count": 7,
   "id": "b76adce4-6d06-4563-ada6-1f1827cac208",
   "metadata": {},
   "outputs": [],
   "source": [
    "def vectorizer(review,label):\n",
    "    return vectorize_layer(review),label"
   ]
  },
  {
   "cell_type": "code",
   "execution_count": 8,
   "id": "ea0ba350-bc35-4d7d-8b3f-2a933e4729fc",
   "metadata": {},
   "outputs": [],
   "source": [
    "train_dataset=train_ds.map(vectorizer)\n",
    "val_dataset=val_ds.map(vectorizer)"
   ]
  },
  {
   "cell_type": "code",
   "execution_count": 9,
   "id": "4c2525b9-2641-41fd-93da-64d915e5a38e",
   "metadata": {},
   "outputs": [
    {
     "name": "stdout",
     "output_type": "stream",
     "text": [
      "tf.Tensor(\n",
      "[  10   13   33  411  384   17   89   26    1    8   32 1337 3521   40\n",
      "  491    1  192   22   84  149   18   10  215  317   26   64  239  212\n",
      "    8  484   54   64   84  111   95   21 5502   10   91  637  737   10\n",
      "   17    7   33  393 9554  169 2443  406    2   87 1205  135   65  142\n",
      "   52    2    1 7408   65  245   64 2832   16    1 2851    1    1 1415\n",
      " 4969    3   39    1 1567   15 3521   13  156   18    4 1205  881 7874\n",
      "    8    4   17   12   13 4037    5   98  145 1234   11  236  696   12\n",
      "   48   22   91   37   10 7285  149   37 1337    1   49  396   11   95\n",
      " 1148  841  140    9    0    0    0    0    0    0    0    0    0    0\n",
      "    0    0    0    0    0    0    0    0    0    0    0    0    0    0\n",
      "    0    0    0    0    0    0    0    0    0    0    0    0    0    0\n",
      "    0    0    0    0    0    0    0    0    0    0    0    0    0    0\n",
      "    0    0    0    0    0    0    0    0    0    0    0    0    0    0\n",
      "    0    0    0    0    0    0    0    0    0    0    0    0    0    0\n",
      "    0    0    0    0    0    0    0    0    0    0    0    0    0    0\n",
      "    0    0    0    0    0    0    0    0    0    0    0    0    0    0\n",
      "    0    0    0    0    0    0    0    0    0    0    0    0    0    0\n",
      "    0    0    0    0    0    0    0    0    0    0    0    0], shape=(250,), dtype=int64)\n",
      "tf.Tensor(0, shape=(), dtype=int64)\n"
     ]
    }
   ],
   "source": [
    "for review,label in train_dataset.take(1):\n",
    "  print(review)\n",
    "  print(label)"
   ]
  },
  {
   "cell_type": "code",
   "execution_count": 10,
   "id": "34f08508-035d-436e-bf24-2ebec9b12b2a",
   "metadata": {},
   "outputs": [
    {
     "data": {
      "text/plain": [
       "'propaganda'"
      ]
     },
     "execution_count": 10,
     "metadata": {},
     "output_type": "execute_result"
    }
   ],
   "source": [
    "vectorize_layer.get_vocabulary()[2443]"
   ]
  },
  {
   "cell_type": "code",
   "execution_count": 11,
   "id": "840c5e85-bb47-4d29-b1b7-20806c50b3a1",
   "metadata": {},
   "outputs": [],
   "source": [
    "BATCH_SIZE=64"
   ]
  },
  {
   "cell_type": "code",
   "execution_count": 12,
   "id": "ca1f2326-8cb8-43a4-addd-fd8a1c29ba8f",
   "metadata": {},
   "outputs": [],
   "source": [
    "train_dataset=train_dataset.batch(BATCH_SIZE).prefetch(buffer_size=tf.data.AUTOTUNE)\n",
    "val_dataset=val_dataset.batch(BATCH_SIZE).prefetch(buffer_size=tf.data.AUTOTUNE)"
   ]
  },
  {
   "cell_type": "markdown",
   "id": "0a9cf28e-dcc7-495d-b715-c5cd25d36958",
   "metadata": {},
   "source": [
    "## Modeling"
   ]
  },
  {
   "cell_type": "markdown",
   "id": "0fd07cde-d1b1-4d2c-8708-6a2f57181ab4",
   "metadata": {},
   "source": [
    "### Embeddings"
   ]
  },
  {
   "cell_type": "code",
   "execution_count": 13,
   "id": "dcc07edc-3702-426c-92c3-a8ca1586896f",
   "metadata": {},
   "outputs": [],
   "source": [
    "def positional_encoding(model_size,SEQUENCE_LENGTH):\n",
    "  output=[]\n",
    "  for pos in range(SEQUENCE_LENGTH):\n",
    "    PE=np.zeros((model_size))\n",
    "    for i in range(model_size):\n",
    "      if i%2==0:\n",
    "        PE[i]=np.sin(pos/(10000**(i/model_size)))\n",
    "      else:\n",
    "        PE[i]=np.cos(pos/(10000**((i-1)/model_size)))\n",
    "    output.append(tf.expand_dims(PE,axis=0))\n",
    "  out=tf.concat(output,axis=0)\n",
    "  out=tf.expand_dims(out,axis=0)\n",
    "  return tf.cast(out,dtype=tf.float32)"
   ]
  },
  {
   "cell_type": "code",
   "execution_count": 14,
   "id": "b4796dc5-de20-438c-b486-1a6ac3bfe224",
   "metadata": {},
   "outputs": [],
   "source": [
    "class Embeddings(Layer):\n",
    "  def __init__(self, sequence_length, vocab_size, embed_dim,):\n",
    "    super(Embeddings, self).__init__()\n",
    "    self.token_embeddings=Embedding(\n",
    "        input_dim=vocab_size, output_dim=embed_dim)\n",
    "    self.sequence_length = sequence_length\n",
    "    self.vocab_size = vocab_size\n",
    "    self.embed_dim = embed_dim\n",
    "\n",
    "  def call(self, inputs):\n",
    "    embedded_tokens = self.token_embeddings(inputs)\n",
    "    embedded_positions=positional_encoding(\n",
    "        self.embed_dim,self.sequence_length)\n",
    "    return embedded_tokens + embedded_positions\n",
    "\n",
    "  def compute_mask(self, inputs, mask=None):\n",
    "    return tf.math.not_equal(inputs, 0)\n",
    "\n",
    "  def get_config(self):\n",
    "      config = super().get_config()\n",
    "      config.update({\n",
    "        \"sequence_length\": self.sequence_length,\n",
    "        \"vocab_size\": self.vocab_size,\n",
    "        \"embed_dim\": self.embed_dim,\n",
    "      })\n",
    "      return config\n"
   ]
  },
  {
   "cell_type": "code",
   "execution_count": 15,
   "id": "7fa62263-7b89-4a4f-9a7d-4f9fe0769722",
   "metadata": {},
   "outputs": [
    {
     "name": "stdout",
     "output_type": "stream",
     "text": [
      "(1, 8, 256)\n"
     ]
    }
   ],
   "source": [
    "test_input=tf.constant([[  2, 112,   10,   12,  5,   0,   0,   0,]])\n",
    "\n",
    "emb=Embeddings(8,20000,256)\n",
    "emb_out=emb(test_input)\n",
    "print(emb_out.shape)"
   ]
  },
  {
   "cell_type": "markdown",
   "id": "3ddbe9f2-f407-423a-aceb-7d413c84a57c",
   "metadata": {},
   "source": [
    "### Encoder"
   ]
  },
  {
   "cell_type": "code",
   "execution_count": 19,
   "id": "694defa1-4697-4879-8191-546a6c8a770a",
   "metadata": {},
   "outputs": [],
   "source": [
    "class TransformerEncoder(Layer):\n",
    "    def __init__(self, embed_dim, dense_dim, num_heads,):\n",
    "        super(TransformerEncoder, self).__init__()\n",
    "        self.embed_dim = embed_dim\n",
    "        self.dense_dim = dense_dim\n",
    "        self.num_heads = num_heads\n",
    "        self.attention = MultiHeadAttention(\n",
    "            num_heads=num_heads, key_dim=embed_dim,\n",
    "        )\n",
    "        self.dense_proj=tf.keras.Sequential(\n",
    "            [Dense(dense_dim, activation=\"relu\"),Dense(embed_dim),]\n",
    "        )\n",
    "        self.layernorm_1 = LayerNormalization()\n",
    "        self.layernorm_2 = LayerNormalization()\n",
    "        self.supports_masking = True\n",
    "\n",
    "    def call(self, inputs, mask=None):\n",
    "      if mask is not None:\n",
    "        mask1 = mask[:, :, tf.newaxis]\n",
    "        mask2 = mask[:,tf.newaxis, :]\n",
    "        padding_mask = tf.cast(mask1&mask2, dtype=\"int32\")\n",
    "\n",
    "      attention_output = self.attention(\n",
    "          query=inputs, key=inputs,value=inputs,attention_mask=padding_mask\n",
    "      )\n",
    "\n",
    "      proj_input = self.layernorm_1(inputs + attention_output)\n",
    "      proj_output = self.dense_proj(proj_input)\n",
    "      return self.layernorm_2(proj_input + proj_output)\n",
    "\n",
    "    def get_config(self):\n",
    "      config = super().get_config()\n",
    "      config.update({\n",
    "        \"embed_dim\": self.embed_dim,\n",
    "        \"num_heads\": self.num_heads,\n",
    "        \"dense_dim\": self.dense_dim,\n",
    "      })\n",
    "      return config"
   ]
  },
  {
   "cell_type": "code",
   "execution_count": 20,
   "id": "3493b39a-9386-4aa9-89e9-6ac8e02c0354",
   "metadata": {},
   "outputs": [
    {
     "name": "stderr",
     "output_type": "stream",
     "text": [
      "2024-07-29 17:20:40.400187: I external/local_tsl/tsl/platform/default/subprocess.cc:304] Start cannot spawn child process: No such file or directory\n",
      "2024-07-29 17:20:41.029547: I external/local_xla/xla/stream_executor/cuda/cuda_dnn.cc:454] Loaded cuDNN version 8902\n"
     ]
    },
    {
     "name": "stdout",
     "output_type": "stream",
     "text": [
      "(1, 8, 256)\n"
     ]
    }
   ],
   "source": [
    "encoder_outputs = TransformerEncoder(256,2048,2)(emb_out)\n",
    "print(encoder_outputs.shape)\n"
   ]
  },
  {
   "cell_type": "markdown",
   "id": "a1bfa4db-d78b-46a1-af68-8cee59bc0234",
   "metadata": {},
   "source": [
    "### Transformer"
   ]
  },
  {
   "cell_type": "code",
   "execution_count": 21,
   "id": "5e9a0606-6909-4bcc-bd23-d5cc49ddd16c",
   "metadata": {},
   "outputs": [],
   "source": [
    "EMBEDDING_DIM=128\n",
    "D_FF=1024\n",
    "NUM_HEADS=8\n",
    "NUM_LAYERS=1\n",
    "NUM_EPOCHS=20"
   ]
  },
  {
   "cell_type": "code",
   "execution_count": 22,
   "id": "780b2901-9f4e-4ab8-b211-d2a130c32772",
   "metadata": {},
   "outputs": [
    {
     "name": "stdout",
     "output_type": "stream",
     "text": [
      "Model: \"transformer\"\n",
      "_________________________________________________________________\n",
      " Layer (type)                Output Shape              Param #   \n",
      "=================================================================\n",
      " input (InputLayer)          [(None, None)]            0         \n",
      "                                                                 \n",
      " embeddings_1 (Embeddings)   (None, 250, 128)          1280000   \n",
      "                                                                 \n",
      " transformer_encoder_2 (Tra  (None, 250, 128)          791296    \n",
      " nsformerEncoder)                                                \n",
      "                                                                 \n",
      " flatten (Flatten)           (None, 32000)             0         \n",
      "                                                                 \n",
      " dense_4 (Dense)             (None, 1)                 32001     \n",
      "                                                                 \n",
      "=================================================================\n",
      "Total params: 2103297 (8.02 MB)\n",
      "Trainable params: 2103297 (8.02 MB)\n",
      "Non-trainable params: 0 (0.00 Byte)\n",
      "_________________________________________________________________\n"
     ]
    }
   ],
   "source": [
    "encoder_input=Input(shape=(None,), dtype=\"int64\", name=\"input\")\n",
    "x = Embeddings(SEQUENCE_LENGTH,VOCAB_SIZE,EMBEDDING_DIM)(encoder_input)\n",
    "\n",
    "for _ in range(NUM_LAYERS):\n",
    "  x=TransformerEncoder(EMBEDDING_DIM,D_FF,NUM_HEADS)(x)\n",
    "\n",
    "x = Flatten()(x)\n",
    "output=Dense(1, activation=\"sigmoid\")(x)\n",
    "\n",
    "transformer = tf.keras.Model(\n",
    "    encoder_input, output, name=\"transformer\"\n",
    ")\n",
    "transformer.summary()"
   ]
  },
  {
   "cell_type": "markdown",
   "id": "5ea39858-e45d-4c2f-b2c0-4470fbae94ea",
   "metadata": {},
   "source": [
    "## Training"
   ]
  },
  {
   "cell_type": "code",
   "execution_count": 24,
   "id": "5bf4cd7b-a2b7-4540-9f35-f5bf5a15045f",
   "metadata": {},
   "outputs": [],
   "source": [
    "checkpoint_filepath = '/mnt/c/Users/Lenovo/Desktop/DS/Datasets/Outputs/SentimentTransformer.h5'\n",
    "model_checkpoint_callback = tf.keras.callbacks.ModelCheckpoint(\n",
    "    filepath=checkpoint_filepath,\n",
    "    monitor='val_accuracy',\n",
    "    mode='max',\n",
    "    save_best_only=True)"
   ]
  },
  {
   "cell_type": "code",
   "execution_count": 25,
   "id": "081002c5-1f31-4e1b-b784-e6e74bd956bc",
   "metadata": {},
   "outputs": [],
   "source": [
    "transformer.compile(loss=tf.keras.losses.BinaryCrossentropy(),\n",
    "              optimizer=tf.keras.optimizers.Adam(1e-4),\n",
    "              metrics=['accuracy'])"
   ]
  },
  {
   "cell_type": "code",
   "execution_count": 27,
   "id": "897527c5-8f8b-4166-b08a-90d58571ea0c",
   "metadata": {},
   "outputs": [
    {
     "name": "stdout",
     "output_type": "stream",
     "text": [
      "Epoch 1/25\n",
      "390/391 [============================>.] - ETA: 0s - loss: 0.7085 - accuracy: 0.5173"
     ]
    },
    {
     "name": "stderr",
     "output_type": "stream",
     "text": [
      "/home/dhruv/.local/lib/python3.10/site-packages/keras/src/engine/training.py:3103: UserWarning: You are saving your model as an HDF5 file via `model.save()`. This file format is considered legacy. We recommend using instead the native Keras format, e.g. `model.save('my_model.keras')`.\n",
      "  saving_api.save_model(\n"
     ]
    },
    {
     "name": "stdout",
     "output_type": "stream",
     "text": [
      "391/391 [==============================] - 31s 80ms/step - loss: 0.7085 - accuracy: 0.5170 - val_loss: 0.6984 - val_accuracy: 0.4969\n",
      "Epoch 2/25\n",
      "391/391 [==============================] - 29s 74ms/step - loss: 0.6993 - accuracy: 0.5350 - val_loss: 0.6929 - val_accuracy: 0.5078\n",
      "Epoch 3/25\n",
      "391/391 [==============================] - 31s 79ms/step - loss: 0.6858 - accuracy: 0.5540 - val_loss: 0.6956 - val_accuracy: 0.4991\n",
      "Epoch 4/25\n",
      "391/391 [==============================] - 33s 85ms/step - loss: 0.5954 - accuracy: 0.6691 - val_loss: 0.4766 - val_accuracy: 0.7659\n",
      "Epoch 5/25\n",
      "391/391 [==============================] - 33s 85ms/step - loss: 0.3702 - accuracy: 0.8345 - val_loss: 0.4811 - val_accuracy: 0.7771\n",
      "Epoch 6/25\n",
      "391/391 [==============================] - 34s 87ms/step - loss: 0.3047 - accuracy: 0.8708 - val_loss: 0.3612 - val_accuracy: 0.8418\n",
      "Epoch 7/25\n",
      "391/391 [==============================] - 34s 88ms/step - loss: 0.2600 - accuracy: 0.8915 - val_loss: 0.3396 - val_accuracy: 0.8547\n",
      "Epoch 8/25\n",
      "391/391 [==============================] - 34s 86ms/step - loss: 0.2195 - accuracy: 0.9132 - val_loss: 0.4290 - val_accuracy: 0.8304\n",
      "Epoch 9/25\n",
      "391/391 [==============================] - 35s 90ms/step - loss: 0.2123 - accuracy: 0.9168 - val_loss: 0.3985 - val_accuracy: 0.8434\n",
      "Epoch 10/25\n",
      "391/391 [==============================] - 36s 91ms/step - loss: 0.1690 - accuracy: 0.9342 - val_loss: 0.4375 - val_accuracy: 0.8389\n",
      "Epoch 11/25\n",
      "391/391 [==============================] - 35s 90ms/step - loss: 0.1575 - accuracy: 0.9411 - val_loss: 0.5490 - val_accuracy: 0.8242\n",
      "Epoch 12/25\n",
      "391/391 [==============================] - 36s 92ms/step - loss: 0.1357 - accuracy: 0.9474 - val_loss: 0.6625 - val_accuracy: 0.8125\n",
      "Epoch 13/25\n",
      "391/391 [==============================] - 37s 95ms/step - loss: 0.1476 - accuracy: 0.9424 - val_loss: 0.5719 - val_accuracy: 0.8258\n",
      "Epoch 14/25\n",
      "391/391 [==============================] - 37s 95ms/step - loss: 0.1695 - accuracy: 0.9348 - val_loss: 0.6638 - val_accuracy: 0.8234\n",
      "Epoch 15/25\n",
      "391/391 [==============================] - 37s 95ms/step - loss: 0.1166 - accuracy: 0.9565 - val_loss: 0.6902 - val_accuracy: 0.8220\n",
      "Epoch 16/25\n",
      "391/391 [==============================] - 37s 95ms/step - loss: 0.1093 - accuracy: 0.9590 - val_loss: 0.6838 - val_accuracy: 0.8206\n",
      "Epoch 17/25\n",
      "391/391 [==============================] - 38s 96ms/step - loss: 0.1198 - accuracy: 0.9532 - val_loss: 0.7809 - val_accuracy: 0.8043\n",
      "Epoch 18/25\n",
      "391/391 [==============================] - 37s 96ms/step - loss: 0.1109 - accuracy: 0.9557 - val_loss: 0.7397 - val_accuracy: 0.8004\n",
      "Epoch 19/25\n",
      "391/391 [==============================] - 37s 95ms/step - loss: 0.0907 - accuracy: 0.9654 - val_loss: 0.7294 - val_accuracy: 0.7897\n",
      "Epoch 20/25\n",
      "391/391 [==============================] - 37s 95ms/step - loss: 0.0892 - accuracy: 0.9670 - val_loss: 1.2130 - val_accuracy: 0.7474\n",
      "Epoch 21/25\n",
      "391/391 [==============================] - 37s 96ms/step - loss: 0.0958 - accuracy: 0.9628 - val_loss: 1.0439 - val_accuracy: 0.7624\n",
      "Epoch 22/25\n",
      "391/391 [==============================] - 38s 98ms/step - loss: 0.0971 - accuracy: 0.9624 - val_loss: 0.5390 - val_accuracy: 0.8151\n",
      "Epoch 23/25\n",
      "391/391 [==============================] - 38s 97ms/step - loss: 0.0863 - accuracy: 0.9679 - val_loss: 0.6766 - val_accuracy: 0.7995\n",
      "Epoch 24/25\n",
      "391/391 [==============================] - 39s 99ms/step - loss: 0.0496 - accuracy: 0.9820 - val_loss: 0.9668 - val_accuracy: 0.7802\n",
      "Epoch 25/25\n",
      "391/391 [==============================] - 39s 99ms/step - loss: 0.0339 - accuracy: 0.9890 - val_loss: 1.0466 - val_accuracy: 0.7886\n"
     ]
    }
   ],
   "source": [
    "history=transformer.fit(\n",
    "    train_dataset,\n",
    "    validation_data=val_dataset,\n",
    "    epochs=25,\n",
    "    callbacks=[model_checkpoint_callback])"
   ]
  },
  {
   "cell_type": "code",
   "execution_count": 28,
   "id": "7354654c-9963-4882-90f9-ff73388a1d05",
   "metadata": {},
   "outputs": [
    {
     "data": {
      "image/png": "[encoded data removed]",
      "text/plain": [
       "<Figure size 640x480 with 1 Axes>"
      ]
     },
     "metadata": {},
     "output_type": "display_data"
    }
   ],
   "source": [
    "plt.plot(history.history['loss'])\n",
    "plt.plot(history.history['val_loss'])\n",
    "plt.title('model_loss')\n",
    "plt.ylabel('loss')\n",
    "plt.xlabel('epoch')\n",
    "plt.legend(['train', 'val'], loc='upper left')\n",
    "plt.show()"
   ]
  },
  {
   "cell_type": "code",
   "execution_count": 29,
   "id": "be7b644f-f1fb-4508-a027-770e2180abb5",
   "metadata": {},
   "outputs": [
    {
     "data": {
      "image/png": "[encoded data removed]",
      "text/plain": [
       "<Figure size 640x480 with 1 Axes>"
      ]
     },
     "metadata": {},
     "output_type": "display_data"
    }
   ],
   "source": [
    "plt.plot(history.history['accuracy'])\n",
    "plt.plot(history.history['val_accuracy'])\n",
    "\n",
    "plt.title('model_accuracy')\n",
    "plt.ylabel('accuracy')\n",
    "plt.xlabel('epoch')\n",
    "plt.legend(['train', 'val'], loc='upper left')\n",
    "plt.show()"
   ]
  },
  {
   "cell_type": "markdown",
   "id": "c4f135ba-5fbe-4c26-acfa-17ff0929550c",
   "metadata": {},
   "source": [
    "## Evaluation"
   ]
  },
  {
   "cell_type": "code",
   "execution_count": 30,
   "id": "8043b096-c1fd-4295-bb90-7aad77c448f6",
   "metadata": {},
   "outputs": [],
   "source": [
    "transformer.load_weights(checkpoint_filepath)"
   ]
  },
  {
   "cell_type": "code",
   "execution_count": 31,
   "id": "2305c554-6e03-4683-ae57-d694f713f122",
   "metadata": {},
   "outputs": [
    {
     "name": "stdout",
     "output_type": "stream",
     "text": [
      "196/196 [==============================] - 7s 33ms/step - loss: 0.3422 - accuracy: 0.8514\n"
     ]
    },
    {
     "data": {
      "text/plain": [
       "[0.3422391414642334, 0.8514400124549866]"
      ]
     },
     "execution_count": 31,
     "metadata": {},
     "output_type": "execute_result"
    }
   ],
   "source": [
    "test_dataset=test_ds.map(vectorizer)\n",
    "test_dataset=test_dataset.batch(BATCH_SIZE)\n",
    "transformer.evaluate(test_dataset)"
   ]
  },
  {
   "cell_type": "code",
   "execution_count": null,
   "id": "d1d978d1-4bb9-4cf9-92c7-fdb5a0759577",
   "metadata": {},
   "outputs": [],
   "source": []
  }
 ],
 "metadata": {
  "kernelspec": {
   "display_name": "Python 3 (ipykernel)",
   "language": "python",
   "name": "python3"
  },
  "language_info": {
   "codemirror_mode": {
    "name": "ipython",
    "version": 3
   },
   "file_extension": ".py",
   "mimetype": "text/x-python",
   "name": "python",
   "nbconvert_exporter": "python",
   "pygments_lexer": "ipython3",
   "version": "3.10.12"
  }
 },
 "nbformat": 4,
 "nbformat_minor": 5
}
