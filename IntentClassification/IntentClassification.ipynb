{
 "cells": [
  {
   "cell_type": "code",
   "execution_count": 1,
   "id": "2c4c2e45-c7d0-4c79-a9c5-fea623f6bff6",
   "metadata": {},
   "outputs": [
    {
     "name": "stderr",
     "output_type": "stream",
     "text": [
      "2024-07-31 19:14:09.892372: E external/local_xla/xla/stream_executor/cuda/cuda_dnn.cc:9261] Unable to register cuDNN factory: Attempting to register factory for plugin cuDNN when one has already been registered\n",
      "2024-07-31 19:14:09.892450: E external/local_xla/xla/stream_executor/cuda/cuda_fft.cc:607] Unable to register cuFFT factory: Attempting to register factory for plugin cuFFT when one has already been registered\n",
      "2024-07-31 19:14:09.893713: E external/local_xla/xla/stream_executor/cuda/cuda_blas.cc:1515] Unable to register cuBLAS factory: Attempting to register factory for plugin cuBLAS when one has already been registered\n",
      "2024-07-31 19:14:09.902109: I tensorflow/core/platform/cpu_feature_guard.cc:182] This TensorFlow binary is optimized to use available CPU instructions in performance-critical operations.\n",
      "To enable the following instructions: AVX2 FMA, in other operations, rebuild TensorFlow with the appropriate compiler flags.\n",
      "2024-07-31 19:14:10.866660: W tensorflow/compiler/tf2tensorrt/utils/py_utils.cc:38] TF-TRT Warning: Could not find TensorRT\n"
     ]
    }
   ],
   "source": [
    "import tensorflow as tf\n",
    "import numpy as np\n",
    "import matplotlib.pyplot as plt\n",
    "from sklearn.metrics import confusion_matrix, roc_curve\n",
    "import seaborn as sns\n",
    "from tensorflow.keras.models import Model\n",
    "from tensorflow.keras.layers import Layer\n",
    "from tensorflow.keras.layers import Dense,Flatten,InputLayer,BatchNormalization,Dropout,Input,LayerNormalization\n",
    "from tensorflow.keras.losses import BinaryCrossentropy,CategoricalCrossentropy, SparseCategoricalCrossentropy\n",
    "from tensorflow.keras.metrics import (BinaryAccuracy, FalsePositives, FalseNegatives, TruePositives,\n",
    "                                       TrueNegatives, Precision, Recall, AUC, binary_accuracy,Accuracy,\n",
    "                                       TopKCategoricalAccuracy, CategoricalAccuracy,SparseCategoricalAccuracy)\n",
    "from tensorflow.keras.optimizers import Adam\n",
    "from datasets import load_dataset\n",
    "from transformers import (BertTokenizerFast,TFBertTokenizer,BertTokenizer,RobertaTokenizerFast,\n",
    "                          DataCollatorWithPadding,TFRobertaForSequenceClassification,TFBertForSequenceClassification,\n",
    "                          TFBertModel,create_optimizer,TFDebertaForSequenceClassification,DebertaTokenizerFast)"
   ]
  },
  {
   "cell_type": "markdown",
   "id": "f3ca1bc5-2aec-411a-af20-79d8a407e211",
   "metadata": {},
   "source": [
    "## Data Prep"
   ]
  },
  {
   "cell_type": "code",
   "execution_count": 2,
   "id": "c353dc72-9156-4956-9394-56ba7714659e",
   "metadata": {},
   "outputs": [],
   "source": [
    "BATCH_SIZE=8"
   ]
  },
  {
   "cell_type": "code",
   "execution_count": 3,
   "id": "5a91a9df-47fc-4092-809f-988193be54a0",
   "metadata": {},
   "outputs": [],
   "source": [
    "dataset=load_dataset(\"csv\",\n",
    "                       data_files=\"/mnt/c/Users/Lenovo/Desktop/DS/Datasets/20000-UtterancesTraining/20k.csv\")"
   ]
  },
  {
   "cell_type": "code",
   "execution_count": 4,
   "id": "139a56ea-e144-493c-b2f4-e0856d283f1f",
   "metadata": {},
   "outputs": [
    {
     "name": "stdout",
     "output_type": "stream",
     "text": [
      "{'registration_problems': 0, 'delivery_period': 1, 'edit_account': 2, 'track_order': 3, 'newsletter_subscription': 4, 'get_invoice': 5, 'cancel_order': 6, 'payment_issue': 7, 'delivery_options': 8, 'change_shipping_address': 9, 'track_refund': 10, 'switch_account': 11, 'review': 12, 'delete_account': 13, 'contact_human_agent': 14, 'create_account': 15, 'place_order': 16, 'set_up_shipping_address': 17, 'recover_password': 18, 'contact_customer_service': 19, 'check_payment_methods': 20, 'check_refund_policy': 21, 'complaint': 22, 'check_invoices': 23, 'get_refund': 24, 'check_cancellation_fee': 25, 'change_order': 26}\n",
      "27\n"
     ]
    }
   ],
   "source": [
    "intents=list(set(dataset['train']['intent']))\n",
    "dict_intents={intents[i]: i for i in range(len(intents))}\n",
    "print(dict_intents)\n",
    "print(len(intents))"
   ]
  },
  {
   "cell_type": "code",
   "execution_count": 5,
   "id": "ab7a58aa-b6ee-46c4-b0b2-1980ebf75d5c",
   "metadata": {},
   "outputs": [],
   "source": [
    "def preprocess(dataset):\n",
    "  return {'utterance':dataset['utterance'],\n",
    "          'intent':dict_intents[dataset['intent']]}"
   ]
  },
  {
   "cell_type": "code",
   "execution_count": 6,
   "id": "1cd43ee4-52ad-469d-9fb7-7f64c0fb5364",
   "metadata": {},
   "outputs": [
    {
     "data": {
      "application/vnd.jupyter.widget-view+json": {
       "model_id": "ab09b1ce8b7345d5bd08f0ec73f3b36a",
       "version_major": 2,
       "version_minor": 0
      },
      "text/plain": [
       "Map:   0%|          | 0/21534 [00:00<?, ? examples/s]"
      ]
     },
     "metadata": {},
     "output_type": "display_data"
    }
   ],
   "source": [
    "prep_dataset=dataset.map(preprocess)"
   ]
  },
  {
   "cell_type": "code",
   "execution_count": 7,
   "id": "88cf7c5c-60b1-4a16-a556-0af6c7b01b9b",
   "metadata": {},
   "outputs": [],
   "source": [
    "model_id=\"microsoft/deberta-base\"\n",
    "tokenizer = DebertaTokenizerFast.from_pretrained(model_id)"
   ]
  },
  {
   "cell_type": "code",
   "execution_count": 8,
   "id": "a5592dd9-3992-4c61-b38f-053de8dbce57",
   "metadata": {},
   "outputs": [],
   "source": [
    "def tokenizer_function(dataset):\n",
    "  return tokenizer(dataset[\"utterance\"],)"
   ]
  },
  {
   "cell_type": "code",
   "execution_count": 9,
   "id": "223dc7aa-dc6d-4e6c-8613-ac81f97977fb",
   "metadata": {},
   "outputs": [
    {
     "data": {
      "application/vnd.jupyter.widget-view+json": {
       "model_id": "bfb1372d451c40bdb7a992e2b8982345",
       "version_major": 2,
       "version_minor": 0
      },
      "text/plain": [
       "Map:   0%|          | 0/21534 [00:00<?, ? examples/s]"
      ]
     },
     "metadata": {},
     "output_type": "display_data"
    }
   ],
   "source": [
    "tokenized_dataset=prep_dataset.map(tokenizer_function)"
   ]
  },
  {
   "cell_type": "code",
   "execution_count": 10,
   "id": "329bcf12-4c42-43fc-b25f-aefb144d9b28",
   "metadata": {},
   "outputs": [],
   "source": [
    "data_collator = DataCollatorWithPadding(tokenizer=tokenizer, return_tensors=\"tf\")"
   ]
  },
  {
   "cell_type": "code",
   "execution_count": 11,
   "id": "b94bb88b-35b4-47ea-815c-7579a9532d8c",
   "metadata": {},
   "outputs": [
    {
     "name": "stderr",
     "output_type": "stream",
     "text": [
      "2024-07-31 19:14:21.487007: I external/local_xla/xla/stream_executor/cuda/cuda_executor.cc:887] could not open file to read NUMA node: /sys/bus/pci/devices/0000:01:00.0/numa_node\n",
      "Your kernel may have been built without NUMA support.\n",
      "2024-07-31 19:14:21.488251: I external/local_xla/xla/stream_executor/cuda/cuda_executor.cc:887] could not open file to read NUMA node: /sys/bus/pci/devices/0000:01:00.0/numa_node\n",
      "Your kernel may have been built without NUMA support.\n",
      "2024-07-31 19:14:21.488329: I external/local_xla/xla/stream_executor/cuda/cuda_executor.cc:887] could not open file to read NUMA node: /sys/bus/pci/devices/0000:01:00.0/numa_node\n",
      "Your kernel may have been built without NUMA support.\n",
      "2024-07-31 19:14:21.498807: I external/local_xla/xla/stream_executor/cuda/cuda_executor.cc:887] could not open file to read NUMA node: /sys/bus/pci/devices/0000:01:00.0/numa_node\n",
      "Your kernel may have been built without NUMA support.\n",
      "2024-07-31 19:14:21.498902: I external/local_xla/xla/stream_executor/cuda/cuda_executor.cc:887] could not open file to read NUMA node: /sys/bus/pci/devices/0000:01:00.0/numa_node\n",
      "Your kernel may have been built without NUMA support.\n",
      "2024-07-31 19:14:21.498989: I external/local_xla/xla/stream_executor/cuda/cuda_executor.cc:887] could not open file to read NUMA node: /sys/bus/pci/devices/0000:01:00.0/numa_node\n",
      "Your kernel may have been built without NUMA support.\n",
      "2024-07-31 19:14:21.725990: I external/local_xla/xla/stream_executor/cuda/cuda_executor.cc:887] could not open file to read NUMA node: /sys/bus/pci/devices/0000:01:00.0/numa_node\n",
      "Your kernel may have been built without NUMA support.\n",
      "2024-07-31 19:14:21.726108: I external/local_xla/xla/stream_executor/cuda/cuda_executor.cc:887] could not open file to read NUMA node: /sys/bus/pci/devices/0000:01:00.0/numa_node\n",
      "Your kernel may have been built without NUMA support.\n",
      "2024-07-31 19:14:21.726120: I tensorflow/core/common_runtime/gpu/gpu_device.cc:2022] Could not identify NUMA node of platform GPU id 0, defaulting to 0.  Your kernel may not have been built with NUMA support.\n",
      "2024-07-31 19:14:21.726188: I external/local_xla/xla/stream_executor/cuda/cuda_executor.cc:887] could not open file to read NUMA node: /sys/bus/pci/devices/0000:01:00.0/numa_node\n",
      "Your kernel may have been built without NUMA support.\n",
      "2024-07-31 19:14:21.726213: I tensorflow/core/common_runtime/gpu/gpu_device.cc:1929] Created device /job:localhost/replica:0/task:0/device:GPU:0 with 3586 MB memory:  -> device: 0, name: NVIDIA GeForce RTX 3060 Laptop GPU, pci bus id: 0000:01:00.0, compute capability: 8.6\n"
     ]
    }
   ],
   "source": [
    "tf_dataset = tokenized_dataset[\"train\"].to_tf_dataset(\n",
    "    columns=['input_ids','attention_mask', 'intent'],\n",
    "    shuffle=True, \n",
    "    batch_size=BATCH_SIZE,\n",
    "    collate_fn=data_collator\n",
    ")"
   ]
  },
  {
   "cell_type": "code",
   "execution_count": 12,
   "id": "bed9b497-223c-4925-9217-d16207691731",
   "metadata": {},
   "outputs": [],
   "source": [
    "def swap_positions(dataset):\n",
    "  return {'input_ids':dataset['input_ids'],\n",
    "          'attention_mask':dataset['attention_mask'],},dataset['intent']"
   ]
  },
  {
   "cell_type": "code",
   "execution_count": 13,
   "id": "3d014039-c098-40e9-a8c6-e48c6484005b",
   "metadata": {},
   "outputs": [],
   "source": [
    "tf_dataset=tf_dataset.map(swap_positions)"
   ]
  },
  {
   "cell_type": "code",
   "execution_count": 14,
   "id": "bd926418-ff27-47bd-9d28-1d2087d7910d",
   "metadata": {},
   "outputs": [],
   "source": [
    "train_dataset=tf_dataset.take(int(0.9*len(tf_dataset)))\n",
    "val_dataset=tf_dataset.skip(int(0.9*len(tf_dataset)))"
   ]
  },
  {
   "cell_type": "markdown",
   "id": "cedf1462-5359-4e1e-85dc-f33b983ca075",
   "metadata": {},
   "source": [
    "## Modelling"
   ]
  },
  {
   "cell_type": "code",
   "execution_count": 15,
   "id": "15c89729-327d-4f5f-9296-778bee4b508d",
   "metadata": {},
   "outputs": [
    {
     "name": "stderr",
     "output_type": "stream",
     "text": [
      "All model checkpoint layers were used when initializing TFDebertaForSequenceClassification.\n",
      "\n",
      "Some layers of TFDebertaForSequenceClassification were not initialized from the model checkpoint at microsoft/deberta-base and are newly initialized: ['pooler', 'classifier', 'cls_dropout']\n",
      "You should probably TRAIN this model on a down-stream task to be able to use it for predictions and inference.\n"
     ]
    },
    {
     "name": "stdout",
     "output_type": "stream",
     "text": [
      "Model: \"tf_deberta_for_sequence_classification\"\n",
      "_________________________________________________________________\n",
      " Layer (type)                Output Shape              Param #   \n",
      "=================================================================\n",
      " deberta (TFDebertaMainLaye  multiple                  138601728 \n",
      " r)                                                              \n",
      "                                                                 \n",
      " pooler (TFDebertaContextPo  multiple                  590592    \n",
      " oler)                                                           \n",
      "                                                                 \n",
      " cls_dropout (TFDebertaStab  multiple                  0         \n",
      " leDropout)                                                      \n",
      "                                                                 \n",
      " classifier (Dense)          multiple                  20763     \n",
      "                                                                 \n",
      "=================================================================\n",
      "Total params: 139213083 (531.06 MB)\n",
      "Trainable params: 139213083 (531.06 MB)\n",
      "Non-trainable params: 0 (0.00 Byte)\n",
      "_________________________________________________________________\n"
     ]
    }
   ],
   "source": [
    "model=TFDebertaForSequenceClassification.from_pretrained(model_id,num_labels=len(intents))\n",
    "model.summary()"
   ]
  },
  {
   "cell_type": "code",
   "execution_count": 16,
   "id": "5aea03ae-4195-4b88-bea6-cf321f40dd1b",
   "metadata": {},
   "outputs": [],
   "source": [
    "num_epochs = 1\n",
    "batches_per_epoch = len(tokenized_dataset[\"train\"]) // BATCH_SIZE\n",
    "total_train_steps = int(batches_per_epoch * num_epochs)"
   ]
  },
  {
   "cell_type": "code",
   "execution_count": 17,
   "id": "9cf3f942-3795-4af4-b899-02d7c121b462",
   "metadata": {},
   "outputs": [
    {
     "name": "stderr",
     "output_type": "stream",
     "text": [
      "2024-07-31 19:14:24.726206: I external/local_tsl/tsl/platform/default/subprocess.cc:304] Start cannot spawn child process: No such file or directory\n"
     ]
    }
   ],
   "source": [
    "optimizer, schedule = create_optimizer(init_lr=2e-5,num_warmup_steps=0, num_train_steps=total_train_steps)"
   ]
  },
  {
   "cell_type": "code",
   "execution_count": 18,
   "id": "79eea36a-df58-4544-ace0-a3bd680fe239",
   "metadata": {},
   "outputs": [],
   "source": [
    "model.compile(optimizer=optimizer,\n",
    "    metrics=[\"accuracy\"])"
   ]
  },
  {
   "cell_type": "code",
   "execution_count": 19,
   "id": "248b1272-10db-435d-a47d-3556cb6c2d8e",
   "metadata": {},
   "outputs": [
    {
     "name": "stdout",
     "output_type": "stream",
     "text": [
      "WARNING:tensorflow:From /home/dhruv/.local/lib/python3.10/site-packages/transformers/models/deberta/modeling_tf_deberta.py:129: Bernoulli.__init__ (from tensorflow.python.ops.distributions.bernoulli) is deprecated and will be removed after 2019-01-01.\n",
      "Instructions for updating:\n",
      "The TensorFlow Distributions library has moved to TensorFlow Probability (https://github.com/tensorflow/probability). You should update all references to use `tfp.distributions` instead of `tf.distributions`.\n",
      "WARNING:tensorflow:From /home/dhruv/.local/lib/python3.10/site-packages/tensorflow/python/ops/distributions/bernoulli.py:86: Distribution.__init__ (from tensorflow.python.ops.distributions.distribution) is deprecated and will be removed after 2019-01-01.\n",
      "Instructions for updating:\n",
      "The TensorFlow Distributions library has moved to TensorFlow Probability (https://github.com/tensorflow/probability). You should update all references to use `tfp.distributions` instead of `tf.distributions`.\n"
     ]
    },
    {
     "name": "stderr",
     "output_type": "stream",
     "text": [
      "2024-07-31 19:15:23.790643: I external/local_xla/xla/service/service.cc:168] XLA service 0x7f8d80369d50 initialized for platform CUDA (this does not guarantee that XLA will be used). Devices:\n",
      "2024-07-31 19:15:23.790698: I external/local_xla/xla/service/service.cc:176]   StreamExecutor device (0): NVIDIA GeForce RTX 3060 Laptop GPU, Compute Capability 8.6\n",
      "2024-07-31 19:15:23.797573: I tensorflow/compiler/mlir/tensorflow/utils/dump_mlir_util.cc:269] disabling MLIR crash reproducer, set env var `MLIR_CRASH_REPRODUCER_DIRECTORY` to enable.\n",
      "2024-07-31 19:15:23.819850: I external/local_xla/xla/stream_executor/cuda/cuda_dnn.cc:454] Loaded cuDNN version 8902\n",
      "WARNING: All log messages before absl::InitializeLog() is called are written to STDERR\n",
      "I0000 00:00:1722433523.889950  102035 device_compiler.h:186] Compiled cluster using XLA!  This line is logged at most once for the lifetime of the process.\n"
     ]
    },
    {
     "name": "stdout",
     "output_type": "stream",
     "text": [
      "2422/2422 [==============================] - 978s 374ms/step - loss: 0.1655 - accuracy: 0.9645 - val_loss: 0.0039 - val_accuracy: 0.9995\n"
     ]
    }
   ],
   "source": [
    "history=model.fit(\n",
    "    train_dataset,\n",
    "    validation_data=val_dataset,\n",
    "    epochs=1,)"
   ]
  },
  {
   "cell_type": "markdown",
   "id": "b1e00a73-c5cb-45f4-ad37-987d66a12d84",
   "metadata": {},
   "source": [
    "## Evaluation"
   ]
  },
  {
   "cell_type": "code",
   "execution_count": 21,
   "id": "d72feb14-3ceb-413e-986d-277c2bc287cd",
   "metadata": {},
   "outputs": [],
   "source": [
    "predicted = []\n",
    "labels = []\n",
    "\n",
    "for inp, label in val_dataset:\n",
    "  predicted.append(model(**inp).logits)\n",
    "  labels.append(label.numpy())"
   ]
  },
  {
   "cell_type": "code",
   "execution_count": 22,
   "id": "b80a2cb5-6582-42c9-a3bf-41012e89efc7",
   "metadata": {},
   "outputs": [
    {
     "name": "stdout",
     "output_type": "stream",
     "text": [
      "[[ 7  3  5 ... 23 15  7]\n",
      " [ 7 13 19 ...  7  7 13]\n",
      " [ 3  0  3 ... 11  5 18]\n",
      " ...\n",
      " [13  4 17 ... 25  7 15]\n",
      " [19 19  7 ... 25 23 21]\n",
      " [ 7 19 14 ... 15 14 19]]\n",
      "[array([ 7,  3,  5, 19, 13, 23, 15,  7]), array([ 7, 13, 19, 23,  7,  7,  7, 13]), array([ 3,  0,  3, 19, 14, 11,  5, 18]), array([18, 12, 14,  3, 24, 26,  5, 26]), array([15, 19,  7, 15,  5, 12, 18, 24]), array([17,  7, 15,  7, 24, 15, 14, 26]), array([18, 23, 26, 14, 15,  7,  3, 13]), array([ 7, 22, 26, 19, 24,  7, 15, 20]), array([26,  5,  7,  5, 14, 18, 23,  7]), array([ 7,  7,  2, 26,  5, 20,  0,  6]), array([26, 19,  4,  7, 18,  5,  2,  5]), array([14, 15,  3, 13, 15, 14, 24, 15]), array([21, 13, 15, 26, 15,  5, 15, 26]), array([13,  7, 12,  2,  7,  1, 19,  7]), array([ 3, 25, 18, 24, 19,  7,  7, 15]), array([ 3, 17,  5,  5, 23,  8, 24,  7]), array([19,  5, 14, 23,  7,  7,  7,  3]), array([21, 14,  3,  3,  7, 25, 26,  8]), array([ 8, 23,  8,  7,  3, 25,  7, 15]), array([ 7, 14, 19,  7, 19, 18, 24, 18]), array([18, 15, 14, 19, 23,  3,  3, 15]), array([26, 21, 19, 26,  3, 19, 26,  3]), array([21,  7, 15,  7,  7, 22, 16,  7]), array([19, 24,  5, 18, 23,  3, 14,  3]), array([15,  7,  7, 26, 15,  7, 15,  3]), array([ 7, 12, 19,  3, 19, 19,  5,  4]), array([17,  5, 15,  7, 22, 18, 21, 18]), array([ 3, 19, 21,  3,  7,  7, 14,  5]), array([12, 22, 19, 17, 19,  4, 20,  7]), array([ 7,  3, 15, 14,  7,  7,  5, 18]), array([15,  7, 10,  3, 15,  7,  9,  1]), array([ 5, 25, 19, 22, 25,  7,  7,  7]), array([18,  7, 14,  5, 22, 12, 21, 15]), array([ 5, 19,  5,  9, 12, 12, 18, 24]), array([ 4,  7, 11,  7,  7,  7, 13, 22]), array([21, 23, 25,  7, 18,  7,  7, 23]), array([ 7, 23, 15, 11, 13, 24, 24, 15]), array([14, 14, 19, 15,  5,  7,  3, 15]), array([15,  7, 13,  7,  3, 26, 15,  7]), array([15,  7, 15,  1, 19, 21, 15, 15]), array([14, 17, 23,  3, 22,  4,  8, 24]), array([ 5,  7, 15, 13, 15,  2, 20,  3]), array([ 5, 15,  7, 24,  7, 21, 24, 26]), array([ 5, 19, 22,  1,  0,  3, 19, 18]), array([24, 14, 15, 22,  7,  5, 14,  7]), array([13, 15, 26,  7, 15, 15, 15,  7]), array([23, 15, 19,  7,  4, 15, 23, 19]), array([ 5,  1, 24,  5,  7, 23, 24, 15]), array([23,  7, 15,  5, 22, 10,  1,  5]), array([ 7, 15, 24,  7,  2, 25,  5,  3]), array([ 4,  7, 14,  7, 15,  5, 12, 23]), array([ 5, 12, 15, 10,  7, 21, 21, 14]), array([19,  7, 23, 15,  7,  7,  7, 19]), array([23, 24, 13, 13, 22, 21,  7,  7]), array([15, 23,  8, 26,  7, 10,  5,  7]), array([26,  3, 15, 14,  3, 23, 18, 21]), array([14, 13,  7, 23, 19, 15, 15,  7]), array([ 5,  3,  7, 23, 11, 10, 19, 22]), array([ 7, 13, 19,  7,  3,  7,  7, 19]), array([ 7, 23,  2,  5, 23,  7,  7, 15]), array([ 8,  3,  3, 23, 15,  5, 23, 15]), array([13, 18, 19, 24, 19, 23, 15,  7]), array([ 7,  7, 21,  4, 15, 23,  7,  7]), array([ 5, 12, 13, 19, 15, 24,  5, 21]), array([25, 13, 19, 26, 24,  7, 18, 14]), array([ 5,  7,  7,  7, 19, 24, 19, 21]), array([22, 24, 13,  7,  7, 18, 25,  7]), array([23, 26, 12, 21, 15, 13,  7,  7]), array([26,  7, 14, 19, 19, 19, 26, 26]), array([ 7,  7, 21, 18, 22, 19,  5, 15]), array([19, 15,  7, 23,  7, 23, 24, 23]), array([19,  3, 24,  7, 12,  4, 15, 19]), array([15,  7, 25, 12,  7,  7, 25, 14]), array([ 3,  4, 20, 19, 14, 19,  3, 23]), array([ 0, 10, 22, 22, 23,  7, 24, 19]), array([10, 22,  5, 14,  7,  5, 15, 24]), array([19,  3, 23, 15, 26, 18, 23, 14]), array([ 3, 15, 15, 21, 26, 15, 22,  7]), array([24,  3, 14, 19, 19,  7, 24,  3]), array([19,  7,  7, 23, 19, 10, 18,  7]), array([15, 22,  7,  7, 14, 10, 22,  8]), array([ 7,  7,  3,  7,  7, 24,  2,  5]), array([21, 15,  2, 26,  7, 12, 15, 24]), array([15, 18, 22, 14,  3, 22, 12,  3]), array([ 7, 12, 20, 22,  7,  5, 22, 23]), array([18,  7,  5, 15, 14,  7, 13, 22]), array([25, 19,  3, 18, 15,  7, 18,  7]), array([ 7, 23, 21, 26,  7, 15,  7,  7]), array([25, 15,  7, 19,  5,  8,  7,  7]), array([ 7, 19,  5, 19, 15,  7, 10, 13]), array([15, 13,  4,  7, 22,  7, 23,  3]), array([22, 19,  7, 15, 15, 21,  7,  7]), array([19, 14,  7, 15, 26,  7, 12, 19]), array([19, 15, 23,  8, 19,  8, 14,  5]), array([ 5, 15,  5, 15, 19, 23, 22, 19]), array([15, 18,  5,  7,  5,  7, 26,  5]), array([ 7,  2, 26, 12,  0,  7,  7,  5]), array([ 7,  7, 18,  3,  3,  8, 26, 18]), array([ 7, 21, 12, 14,  7, 19,  4,  3]), array([13, 13, 19,  7, 15, 18,  7, 25]), array([18, 26, 22, 21, 22,  7, 15, 22]), array([15, 18, 14,  5, 26,  7,  2,  7]), array([ 5,  7, 12, 23, 21, 15, 12,  4]), array([12,  3, 14, 19,  5, 25,  7,  3]), array([23,  1,  5, 23,  2, 24,  7, 26]), array([23, 23, 14, 22, 24,  5, 24,  7]), array([18,  7,  3, 14,  9, 24,  7, 18]), array([ 7,  7, 26, 19,  5,  7, 15,  5]), array([ 7,  8,  7, 23, 12, 23, 26, 15]), array([11, 12, 19, 24,  7, 18,  7, 24]), array([ 7,  5, 24, 13, 10, 18,  7, 22]), array([18,  7, 24, 22, 15,  7, 20,  3]), array([ 3,  5, 12,  9, 19,  7,  7, 15]), array([ 3, 22, 10, 15, 15, 15, 19, 21]), array([24, 19,  7, 26,  5, 15, 14,  3]), array([19, 10, 26, 23, 24, 15, 22, 12]), array([12, 23, 13,  4, 23, 26, 15, 26]), array([15, 14,  7, 20, 15, 14, 15, 13]), array([12, 23,  5, 13, 24, 21, 19,  7]), array([ 7, 13,  3, 22,  7, 19, 14, 13]), array([13, 14, 24, 18, 26, 10,  7, 23]), array([11, 13, 24, 15, 12, 18,  7, 19]), array([15,  5,  5, 10,  7, 13,  0,  5]), array([ 7, 14,  5,  0, 25, 24,  3, 23]), array([21, 13,  7, 24,  5,  7, 12,  7]), array([ 9, 22,  4, 10,  7, 18, 22,  7]), array([24, 22,  7, 19,  7,  3, 24, 15]), array([15,  7,  7,  3,  7, 25, 24,  7]), array([12,  5,  7,  7, 26,  7, 26,  3]), array([20, 12, 14, 14,  7,  5,  5,  8]), array([ 7, 21, 20,  7,  5,  4,  5, 18]), array([10, 19,  2,  7, 23,  7,  7, 15]), array([15,  7,  7,  7,  7, 21, 14, 15]), array([ 2, 23, 19,  7,  7, 18, 25,  7]), array([ 3, 21,  5,  4, 10, 19, 24,  7]), array([ 3, 14, 13, 13,  3, 23,  7, 23]), array([26, 19,  7, 24, 19,  7, 19, 15]), array([22,  4,  7, 26,  7, 20, 24,  7]), array([ 7, 18, 19, 22,  7,  8,  5,  7]), array([ 7, 14, 11, 14, 19, 18,  7, 15]), array([14, 18, 19, 24,  7, 12, 24,  5]), array([ 7,  7, 13,  7, 19, 14,  7, 19]), array([26, 23,  7, 19, 23, 19, 12, 23]), array([ 7, 16,  5,  5, 18, 12, 23, 15]), array([17, 15, 24,  7, 10, 15,  5, 19]), array([ 2,  7, 23,  8, 13, 24, 22,  7]), array([23,  7, 15, 23,  1,  7,  3, 19]), array([ 7, 24,  7, 14,  7, 22, 15, 10]), array([ 7, 26,  4,  7, 23, 11, 19, 19]), array([ 7, 23,  0, 15, 23, 23,  7, 21]), array([ 5, 25,  7, 15, 15, 14, 23,  5]), array([ 5,  7, 19,  8, 19, 23,  7, 19]), array([18,  5, 25,  7, 18, 20,  3,  5]), array([15, 18, 15, 12, 23, 12,  7,  5]), array([24, 22,  7, 12,  7,  2,  7,  7]), array([24, 20, 23,  5, 11,  7, 23, 12]), array([ 7, 14, 13,  3, 17, 12, 15, 15]), array([20, 24, 15,  1, 19,  7, 19,  7]), array([ 7, 13,  7, 20, 18,  7,  5,  3]), array([ 7, 11, 19, 19, 19,  7, 18,  0]), array([16,  7, 15, 24, 15, 12, 19,  7]), array([18,  3, 19, 12, 12, 15, 20, 21]), array([19, 14, 21,  3,  9, 14,  5, 24]), array([ 7, 24, 19, 26, 23, 21,  7, 24]), array([23, 18, 14, 22,  7, 13, 26, 13]), array([ 5,  1,  5,  5, 24, 21,  7, 14]), array([ 9, 19,  7,  7, 19, 10, 14, 21]), array([14, 14, 24, 19,  7, 15, 23,  2]), array([ 7, 19,  4, 18, 11, 21, 13,  7]), array([13,  1, 19, 22,  7, 19, 23, 11]), array([26, 19, 15, 19,  3,  8, 26,  7]), array([ 7, 18,  7, 23, 18, 15,  7, 13]), array([15, 23,  9, 19, 26, 14, 26,  7]), array([24,  5, 25,  7,  7,  8,  5, 24]), array([ 5,  7,  5,  3, 19, 23, 23,  3]), array([ 5, 12, 15, 15, 10, 26,  3, 18]), array([24, 19, 18,  5, 21, 14, 15, 15]), array([26, 21,  7,  3, 11,  7, 15, 14]), array([20, 21, 19, 19,  7, 15, 18, 13]), array([ 7,  7, 15, 18, 22, 19, 19,  7]), array([10,  5, 26,  5, 14,  7, 18,  7]), array([ 7, 20,  7,  7,  7,  7, 14, 21]), array([ 4, 15,  7, 18,  1, 15, 13,  7]), array([20, 12, 26,  7, 12, 13, 14, 13]), array([ 7, 19,  7, 12, 19,  7,  7,  7]), array([ 5, 13, 13,  3, 15,  3,  0,  7]), array([10,  7, 21, 22,  3, 11,  7, 24]), array([ 7,  5,  5, 14,  7,  8,  3, 26]), array([20, 19,  7, 23, 24, 18,  9, 14]), array([ 5, 13, 19,  7, 24, 19, 15, 18]), array([19, 19, 14, 19, 25, 15, 26, 19]), array([24, 15, 19, 18,  7,  7,  8, 26]), array([19, 22, 13, 12, 13, 18, 15, 22]), array([ 7, 11, 13,  7, 19, 24, 23, 23]), array([15, 15, 18, 20, 24, 15, 18,  7]), array([ 7,  7, 15, 22,  3, 12,  5, 23]), array([ 7,  7,  3,  7, 14, 19,  7,  5]), array([15,  5,  4, 15, 19, 25,  7, 13]), array([19, 23,  5, 19, 19,  3, 15, 14]), array([24, 14,  7, 18, 14, 11, 19,  8]), array([ 5, 19, 21, 11, 15, 26, 25,  5]), array([ 8, 26, 15,  7,  7, 18, 22, 15]), array([24,  7, 22, 19, 20, 15, 15,  8]), array([24,  5, 15, 12, 20,  7, 18, 24]), array([20,  7, 26, 19, 21,  5, 26,  8]), array([24, 20,  7,  7, 14,  5, 19, 14]), array([ 7, 19,  3, 22, 19, 15, 21, 15]), array([ 7, 15,  7, 21, 15, 18, 20, 23]), array([14,  1, 14,  7, 15, 23,  7,  7]), array([ 5, 14,  0,  7, 22, 12,  5,  1]), array([11, 14, 15, 21, 13, 26,  5,  7]), array([15, 26, 19,  5,  3, 26, 26, 24]), array([ 7, 19, 11, 19, 20,  5,  5, 21]), array([ 7, 18,  3,  3, 19, 15, 24,  7]), array([14, 24, 23, 13,  8, 23,  2,  5]), array([19,  4, 12,  3, 13, 15,  8, 23]), array([ 5, 18, 12, 19, 22, 19, 18,  7]), array([20,  0, 24, 25, 26,  5,  9, 18]), array([15, 19, 12, 10,  3, 26, 10,  7]), array([22, 18,  3, 23,  7, 19, 13, 11]), array([ 5,  7,  7, 25, 24,  7, 21,  7]), array([19, 23, 19, 18, 15, 25,  7, 19]), array([19,  7, 15, 19, 16, 18,  5,  3]), array([23, 12, 14, 11, 26, 19,  3, 14]), array([24, 14,  7,  5, 21, 24, 22, 24]), array([14, 19, 12, 21, 13, 19,  0,  7]), array([ 5,  7, 13, 24, 15, 12, 19, 26]), array([23, 15,  7, 15, 15, 25, 15, 26]), array([25,  7,  1, 15, 23, 22,  5, 13]), array([15, 26, 14,  9, 15,  5, 12, 20]), array([15,  2, 15, 15, 15,  7,  3, 23]), array([ 7, 14,  7, 23, 20,  5, 15, 26]), array([15, 13, 22,  5,  3,  7, 26,  7]), array([12, 15,  7,  3,  7,  7,  7, 26]), array([24, 22, 25, 23, 15,  7, 19, 13]), array([15, 20, 23, 13, 23, 18,  5, 23]), array([23, 19,  4, 12, 19, 19,  7, 13]), array([26,  7, 22,  7, 13, 24, 15,  7]), array([ 7, 13, 15, 21, 23, 15,  7, 19]), array([ 9, 25,  7, 26,  7, 19,  7, 24]), array([13,  7,  7,  5, 18,  3, 15,  5]), array([ 8, 10, 13, 17,  7, 13, 18, 14]), array([18, 10,  3,  7,  3, 26,  7,  5]), array([22, 18, 15,  7,  5, 23, 22, 21]), array([ 8, 13,  5, 17,  7,  7, 26, 23]), array([ 7, 14, 18, 18,  3, 19,  7,  3]), array([15,  9, 26, 22,  7, 20, 14, 13]), array([15,  7, 10, 15,  7, 24,  7,  7]), array([12, 10, 15, 15,  7,  5, 21, 25]), array([ 5, 24, 12, 15, 18, 24, 20, 19]), array([ 3, 18,  7, 12, 26,  5, 22, 19]), array([ 8, 14, 26,  7,  7,  9, 21, 15]), array([ 7, 22, 10, 13,  7, 15,  7,  5]), array([15,  7, 23, 16, 15, 23,  5, 11]), array([19, 12, 22,  7,  5,  7,  7, 15]), array([ 2,  3,  5, 23,  7, 13, 23, 24]), array([21, 15, 15, 14,  7, 15,  3,  7]), array([ 7, 15,  7, 18, 25, 14, 15, 14]), array([16,  5,  8,  7, 24,  3, 18, 13]), array([21,  7, 10, 19,  8, 23, 14,  5]), array([ 3, 15, 21, 19, 12,  7, 14, 13]), array([ 7,  7, 15,  7,  5, 12, 11, 23]), array([23,  7,  0,  6,  7,  7,  5,  7]), array([ 7,  7, 26,  3, 22, 20, 20,  5]), array([19,  3,  7,  3,  3, 12,  5, 24]), array([26, 21,  9,  7, 15,  7, 25, 22]), array([13,  4, 17, 23, 14, 25,  7, 15]), array([19, 19,  7, 21, 12, 25, 23, 21]), array([ 7, 19, 14, 22,  7, 15, 14, 19])]\n"
     ]
    }
   ],
   "source": [
    "print(tf.argmax(predicted[:-1],axis=-1).numpy())\n",
    "print(labels[:-1])"
   ]
  },
  {
   "cell_type": "code",
   "execution_count": 23,
   "id": "f190bfe6-764b-4d98-8e0e-94f393eb4cc5",
   "metadata": {},
   "outputs": [
    {
     "name": "stdout",
     "output_type": "stream",
     "text": [
      "[ 7  3  5 ...  7  7 12]\n",
      "[ 7  3  5 ...  7  7 12]\n"
     ]
    }
   ],
   "source": [
    "print(np.concatenate([np.array(labels[:-1]).flatten(),np.array(labels[-1]).flatten()]))\n",
    "print(np.concatenate([np.argmax(predicted[:-1], axis = -1).flatten(), np.argmax(predicted[-1], axis = -1).flatten()]))"
   ]
  },
  {
   "cell_type": "code",
   "execution_count": 24,
   "id": "4308b3ea-e70a-46a6-8b97-70e1fde5b862",
   "metadata": {},
   "outputs": [],
   "source": [
    "pred=np.concatenate([np.array(labels[:-1]).flatten(),np.array(labels[-1]).flatten()])\n",
    "lab=np.concatenate([np.argmax(predicted[:-1], axis = -1).flatten(), np.argmax(predicted[-1], axis = -1).flatten()])"
   ]
  },
  {
   "cell_type": "code",
   "execution_count": 25,
   "id": "5089b433-c33f-4aae-a53c-f8f98965407f",
   "metadata": {},
   "outputs": [
    {
     "name": "stdout",
     "output_type": "stream",
     "text": [
      "[[ 14   0   0   0   0   0   0   0   0   0   0   0   0   0   0   0   0   0\n",
      "    0   0   0   0   0   0   0   0   0]\n",
      " [  0  15   0   0   0   0   0   0   0   0   0   0   0   0   0   0   0   0\n",
      "    0   0   0   0   0   0   0   0   0]\n",
      " [  0   0  19   0   0   0   0   0   0   0   0   0   0   0   0   0   0   0\n",
      "    0   0   0   0   0   0   0   0   0]\n",
      " [  0   0   0 110   0   0   0   0   0   0   0   0   0   0   0   0   0   0\n",
      "    0   0   0   0   0   0   0   0   0]\n",
      " [  0   0   0   0  25   0   0   0   0   0   0   0   0   0   0   0   0   0\n",
      "    0   0   0   0   0   0   0   0   0]\n",
      " [  0   0   0   0   0 152   0   0   0   0   0   0   0   0   0   0   0   0\n",
      "    0   0   0   0   0   0   0   0   0]\n",
      " [  0   0   0   0   0   0   2   0   0   0   0   0   0   0   0   0   0   0\n",
      "    0   0   0   0   0   0   0   0   0]\n",
      " [  0   0   0   0   0   0   0 441   0   0   0   0   0   0   0   0   0   0\n",
      "    0   0   0   0   0   0   0   0   0]\n",
      " [  0   0   0   0   0   0   0   0  32   0   0   0   0   0   0   0   0   0\n",
      "    0   0   0   0   0   0   0   0   0]\n",
      " [  0   0   0   0   0   0   0   0   0  15   0   0   0   0   0   0   0   0\n",
      "    0   0   0   0   0   0   0   0   0]\n",
      " [  0   0   0   0   0   0   0   0   0   0  32   0   0   0   0   0   0   0\n",
      "    0   0   0   0   0   0   0   0   0]\n",
      " [  0   0   0   0   0   0   0   0   0   0   0  23   0   0   0   0   0   0\n",
      "    0   0   0   0   0   0   0   0   0]\n",
      " [  0   0   0   0   0   0   0   0   0   0   0   0  70   0   0   0   0   0\n",
      "    0   0   0   0   0   0   0   0   0]\n",
      " [  0   0   0   0   0   0   0   0   0   0   0   0   0  81   0   0   0   0\n",
      "    0   0   0   0   0   0   0   0   0]\n",
      " [  0   0   0   0   0   0   0   0   0   0   0   0   0   0 103   0   0   0\n",
      "    0   0   0   0   0   0   0   0   0]\n",
      " [  0   0   0   0   0   0   0   0   0   0   0   0   0   0   0 217   0   0\n",
      "    0   0   0   0   0   0   0   0   0]\n",
      " [  0   0   0   0   0   0   0   0   0   0   0   0   0   0   0   0   6   0\n",
      "    0   0   0   0   0   0   0   0   0]\n",
      " [  0   0   0   0   0   0   0   0   0   0   0   0   0   0   0   0   0  10\n",
      "    0   0   0   0   0   0   0   0   0]\n",
      " [  0   0   0   0   0   0   0   0   0   0   0   0   0   0   0   0   0   0\n",
      "   93   0   0   0   0   0   0   0   0]\n",
      " [  0   0   0   0   0   0   0   0   0   0   0   0   0   0   0   0   0   0\n",
      "    0 183   0   0   0   0   0   0   0]\n",
      " [  0   0   0   0   0   0   0   0   0   0   0   0   0   0   0   0   0   0\n",
      "    0   0  35   0   0   0   0   0   0]\n",
      " [  0   0   0   0   0   0   0   0   0   0   0   0   0   0   0   0   0   0\n",
      "    0   0   0  63   0   0   0   0   0]\n",
      " [  0   0   0   0   0   0   0   0   0   0   0   0   0   0   0   0   0   0\n",
      "    0   0   0   0  74   0   0   0   0]\n",
      " [  0   0   0   0   0   0   0   0   0   0   0   0   0   0   0   0   0   0\n",
      "    0   0   0   0   0 119   0   0   0]\n",
      " [  0   0   0   0   0   0   0   0   0   0   0   0   0   0   0   0   0   0\n",
      "    0   0   0   0   0   0 100   0   0]\n",
      " [  0   0   0   0   0   0   0   0   0   0   0   0   0   0   0   0   0   0\n",
      "    0   0   0   0   0   0   0  36   0]\n",
      " [  0   0   0   0   0   0   0   0   0   0   0   0   0   0   0   0   0   0\n",
      "    0   0   0   0   0   0   0   0  88]]\n"
     ]
    },
    {
     "data": {
      "text/plain": [
       "Text(0.5, 146.7222222222222, 'Predicted')"
      ]
     },
     "execution_count": 25,
     "metadata": {},
     "output_type": "execute_result"
    },
    {
     "data": {
      "image/png": "[encoded data removed]",
      "text/plain": [
       "<Figure size 1600x1600 with 2 Axes>"
      ]
     },
     "metadata": {},
     "output_type": "display_data"
    }
   ],
   "source": [
    "cm = confusion_matrix(lab, pred)\n",
    "print(cm)\n",
    "plt.figure(figsize=(16,16))\n",
    "\n",
    "sns.heatmap(cm, annot=True,)\n",
    "plt.title('Confusion matrix')\n",
    "plt.ylabel('Actual')\n",
    "plt.xlabel('Predicted')"
   ]
  },
  {
   "cell_type": "markdown",
   "id": "8adc879f-2c0c-40df-a8d3-1e12a65a751b",
   "metadata": {},
   "source": [
    "## Testing"
   ]
  },
  {
   "cell_type": "code",
   "execution_count": 26,
   "id": "5378b0d0-2d76-402f-84db-ae4b6c2d330f",
   "metadata": {},
   "outputs": [],
   "source": [
    "inputs = tokenizer([\"Please how do i go about the account creation? \",\n",
    "                    \"After setting up my account, i feel like i need to change it. How do i go about that?\",\n",
    "                    \"how do i know how much i need to pay?\",\n",
    "                    \"purchased a product, which i now want to change\"\n",
    "                    ], padding=True,return_tensors=\"tf\")\n",
    "\n",
    "logits = model(**inputs).logits\n",
    "outputs=tf.argmax(logits,axis=-1).numpy()"
   ]
  },
  {
   "cell_type": "code",
   "execution_count": 27,
   "id": "98e955eb-f429-478a-b82f-05d912dfbc27",
   "metadata": {},
   "outputs": [
    {
     "name": "stdout",
     "output_type": "stream",
     "text": [
      "[ 0  2 20 26]\n"
     ]
    }
   ],
   "source": [
    "print(outputs)"
   ]
  },
  {
   "cell_type": "code",
   "execution_count": 28,
   "id": "3df1b8b2-3dc8-4aeb-b5c0-101b29af7cb0",
   "metadata": {},
   "outputs": [
    {
     "name": "stdout",
     "output_type": "stream",
     "text": [
      "{0: 'registration_problems', 1: 'delivery_period', 2: 'edit_account', 3: 'track_order', 4: 'newsletter_subscription', 5: 'get_invoice', 6: 'cancel_order', 7: 'payment_issue', 8: 'delivery_options', 9: 'change_shipping_address', 10: 'track_refund', 11: 'switch_account', 12: 'review', 13: 'delete_account', 14: 'contact_human_agent', 15: 'create_account', 16: 'place_order', 17: 'set_up_shipping_address', 18: 'recover_password', 19: 'contact_customer_service', 20: 'check_payment_methods', 21: 'check_refund_policy', 22: 'complaint', 23: 'check_invoices', 24: 'get_refund', 25: 'check_cancellation_fee', 26: 'change_order'}\n"
     ]
    }
   ],
   "source": [
    "reverse_dict_intents={i:intents[i] for i in range(len(intents))}\n",
    "print(reverse_dict_intents)"
   ]
  },
  {
   "cell_type": "code",
   "execution_count": 29,
   "id": "9e21e663-f07a-40f8-91a6-d4d9f6899a43",
   "metadata": {},
   "outputs": [
    {
     "name": "stdout",
     "output_type": "stream",
     "text": [
      "registration_problems\n",
      "edit_account\n",
      "check_payment_methods\n",
      "change_order\n"
     ]
    }
   ],
   "source": [
    "for i in outputs:\n",
    "  print(reverse_dict_intents[i])"
   ]
  },
  {
   "cell_type": "code",
   "execution_count": null,
   "id": "73a11a6a-dd65-4aae-9c20-c434d2a006e9",
   "metadata": {},
   "outputs": [],
   "source": []
  }
 ],
 "metadata": {
  "kernelspec": {
   "display_name": "Python 3 (ipykernel)",
   "language": "python",
   "name": "python3"
  },
  "language_info": {
   "codemirror_mode": {
    "name": "ipython",
    "version": 3
   },
   "file_extension": ".py",
   "mimetype": "text/x-python",
   "name": "python",
   "nbconvert_exporter": "python",
   "pygments_lexer": "ipython3",
   "version": "3.10.12"
  }
 },
 "nbformat": 4,
 "nbformat_minor": 5
}
